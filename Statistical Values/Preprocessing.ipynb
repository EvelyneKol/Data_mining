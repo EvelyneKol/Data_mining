{
 "cells": [
  {
   "cell_type": "markdown",
   "id": "b55dfd3e-9870-48ba-a7ac-553703465011",
   "metadata": {},
   "source": [
    "# Preprocessing"
   ]
  },
  {
   "cell_type": "code",
   "execution_count": null,
   "id": "db473858-0dbd-421f-a527-7c432b568127",
   "metadata": {},
   "outputs": [],
   "source": [
    "import os\n",
    "import pandas as pd\n",
    "\n",
    "# ορισμός input και output φακέλων\n",
    "input_dir = 'harth'\t\n",
    "output_dir = 'harth2'\n",
    "\n",
    "# δημιουργία φακέλου αποθήκευσης \n",
    "os.makedirs(output_dir, exist_ok=True)\n",
    "\n",
    "# για κάθε csv\n",
    "for file_name in os.listdir(input_dir):\n",
    "    if file_name.endswith('.csv'):\n",
    "        # φόρτωσε το αρχέιο σε DataFrame\n",
    "        file_path = os.path.join(input_dir, file_name)\n",
    "        df = pd.read_csv(file_path)\n",
    "\n",
    "        # μετατροπή 'timestamp' σε datetime\n",
    "        df['timestamp'] = pd.to_datetime(df['timestamp'])\n",
    "\n",
    "        # διατήρηση μόνο της ώρας\n",
    "        df['time_only'] = df['timestamp'].dt.strftime('%H:%M:%S.%f')\n",
    "\n",
    "        # διατήρηση μόνος ώρας και μετρήσεων\n",
    "        df = df[['time_only', 'back_x', 'back_y', 'back_z', 'thigh_x', 'thigh_y', 'thigh_z', 'label']]\n",
    "\n",
    "        # output path\n",
    "        output_file_path = os.path.join(output_dir, file_name)\n",
    "\n",
    "        # αποθήκευση νέων CSV στον νέο φάκελο \n",
    "        df.to_csv(output_file_path, index=False)"
   ]
  }
 ],
 "metadata": {
  "kernelspec": {
   "display_name": "Python 3 (ipykernel)",
   "language": "python",
   "name": "python3"
  },
  "language_info": {
   "codemirror_mode": {
    "name": "ipython",
    "version": 3
   },
   "file_extension": ".py",
   "mimetype": "text/x-python",
   "name": "python",
   "nbconvert_exporter": "python",
   "pygments_lexer": "ipython3",
   "version": "3.12.0"
  }
 },
 "nbformat": 4,
 "nbformat_minor": 5
}
